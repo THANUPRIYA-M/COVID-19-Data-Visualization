{
 "cells": [
  {
   "cell_type": "code",
   "execution_count": null,
   "metadata": {},
   "outputs": [],
   "source": [
    "import pyodbc\n",
    "import requests\n",
    "\n",
    "#make an http get requests to fetch data from the covid-19 statistics\n",
    "api_url =\"https://api.rootnet.in/covid19-in/stats/latest\"\n",
    "response = requests.get(api_url)\n",
    "regional_data=[];\n",
    "#check if the request was successful (status code 200)\n",
    "if response.status_code ==200:\n",
    " #parse the jason response code to extract the required data\n",
    "    data = response.json()\n",
    "    if 'data' in data and 'regional' in data ['data']:\n",
    "        regional_data= data['data']['regional']\n",
    "        \n",
    "\n",
    "# Connection parameters\n",
    "server = 'LAPTOP-4TA5RTFU'  # Replace with the name of your SQL Server instance\n",
    "database = 'sqlpratice'\n",
    "username = 'sa'\n",
    "password = 'thanu@8085'\n",
    "\n",
    "# Establish the connection\n",
    "connection_string = f'DRIVER={{SQL Server}};SERVER={server};DATABASE={database};UID={username};PWD={password}'\n",
    "connection = pyodbc.connect(connection_string)\n",
    "\n",
    "# Create a cursor from the connection\n",
    "cursor = connection.cursor()\n",
    "cursor.execute('''\n",
    "    IF NOT EXISTS (SELECT * FROM INFORMATION_SCHEMA.TABLES WHERE TABLE_NAME = 'COVID19')\n",
    "    BEGIN\n",
    "        CREATE TABLE COVID19 (\n",
    "            Location NVARCHAR(50),\n",
    "            Deaths INT\n",
    "        )\n",
    "    END\n",
    "''')\n",
    "connection.commit()\n",
    "\n",
    "# Insert data into the table\n",
    "for region in regional_data:\n",
    "    cursor.execute(\"INSERT INTO COVID19 (Location, Deaths) VALUES (?, ?)\", region['loc'], region['deaths'])\n",
    "\n",
    "connection.commit()\n",
    "\n",
    "# Execute SQL queries or perform databa\n",
    "cursor.close()\n",
    "connection.close()\n"
   ]
  }
 ],
 "metadata": {
  "language_info": {
   "name": "python"
  }
 },
 "nbformat": 4,
 "nbformat_minor": 2
}
