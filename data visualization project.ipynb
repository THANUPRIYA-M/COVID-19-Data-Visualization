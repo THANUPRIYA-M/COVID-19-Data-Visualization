{
 "cells": [
  {
   "cell_type": "code",
   "execution_count": null,
   "metadata": {},
   "outputs": [],
   "source": [
    "import pandas as pd\n",
    "import matplotlib.pyplot as plt\n",
    "import requests\n",
    "\n",
    "#make an http get requests to fetch data from the covid-19 statistics\n",
    "api_url =\"https://api.rootnet.in/covid19-in/hospitals/beds\"\n",
    "response = requests.get(api_url)\n",
    "\n",
    "#check if the request was successful (status code 200)\n",
    "if response.status_code ==200:\n",
    " #parse the jason response code to extract the required data\n",
    "    data = response.json()\n",
    "    if 'data' in data and 'regional' in data ['data']:\n",
    "        regional_data= data['data']['regional']\n",
    "        \n",
    "        #create a dataframe from the summary data\n",
    "        df= pd.DataFrame(regional_data)\n",
    "        \n",
    "        #bar plot with total total beds available in states\n",
    "        plt.figure(figsize=(12, 6))\n",
    "        plt.bar(df['state'], df['urbanHospitals'], color='skyblue')\n",
    "        plt.xticks(rotation=90)  #rotate x-axis labels for better readability\n",
    "        \n",
    "        #adding title to theplot\n",
    "        plt.title(\"Available urbanHospitals by state in India\")\n",
    "        \n",
    "        \n",
    "        #setting the x and y labels\n",
    "        plt.xlabel('available urbanHospitals')\n",
    "        plt.ylabel('state')\n",
    "        \n",
    "        plt.tight_layout()\n",
    "        plt.show()\n",
    "    else:\n",
    "        print(\"Data structure is not as expected in the API response.\")\n",
    "else:\n",
    "    print(f\"Failed to fetch data. Status code: {response.status_code}\")\n",
    "    \n",
    "        \n",
    "        "
   ]
  }
 ],
 "metadata": {
  "language_info": {
   "name": "python"
  }
 },
 "nbformat": 4,
 "nbformat_minor": 2
}
